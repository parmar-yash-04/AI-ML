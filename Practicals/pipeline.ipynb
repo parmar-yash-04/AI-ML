{
 "cells": [
  {
   "cell_type": "markdown",
   "id": "44997fb3-de78-4296-87b4-f724b50052ab",
   "metadata": {},
   "source": [
    "# Pipeline"
   ]
  },
  {
   "cell_type": "code",
   "execution_count": 18,
   "id": "c3a2a777-3fff-4c52-a6d9-8fe2d54a9d06",
   "metadata": {},
   "outputs": [],
   "source": [
    "import pandas as pd\n",
    "import numpy as np\n",
    "from sklearn.model_selection import train_test_split\n",
    "from sklearn.pipeline import Pipeline\n",
    "from sklearn.compose import ColumnTransformer\n",
    "from sklearn.preprocessing import OrdinalEncoder, OneHotEncoder, StandardScaler\n",
    "from sklearn.impute import SimpleImputer\n",
    "from sklearn.linear_model import LogisticRegression\n",
    "from sklearn.ensemble import RandomForestClassifier\n",
    "from sklearn.metrics import classification_report, accuracy_score, f1_score, balanced_accuracy_score\n",
    "import warnings"
   ]
  },
  {
   "cell_type": "code",
   "execution_count": 2,
   "id": "1e26a042-9920-4e9e-a6fa-e9905b7bac60",
   "metadata": {},
   "outputs": [
    {
     "data": {
      "text/html": [
       "<div>\n",
       "<style scoped>\n",
       "    .dataframe tbody tr th:only-of-type {\n",
       "        vertical-align: middle;\n",
       "    }\n",
       "\n",
       "    .dataframe tbody tr th {\n",
       "        vertical-align: top;\n",
       "    }\n",
       "\n",
       "    .dataframe thead th {\n",
       "        text-align: right;\n",
       "    }\n",
       "</style>\n",
       "<table border=\"1\" class=\"dataframe\">\n",
       "  <thead>\n",
       "    <tr style=\"text-align: right;\">\n",
       "      <th></th>\n",
       "      <th>Age</th>\n",
       "      <th>Grade</th>\n",
       "      <th>Gender</th>\n",
       "      <th>Race</th>\n",
       "      <th>SES_Quartile</th>\n",
       "      <th>ParentalEducation</th>\n",
       "      <th>SchoolType</th>\n",
       "      <th>Locale</th>\n",
       "      <th>TestScore_Math</th>\n",
       "      <th>TestScore_Reading</th>\n",
       "      <th>...</th>\n",
       "      <th>GPA</th>\n",
       "      <th>AttendanceRate</th>\n",
       "      <th>StudyHours</th>\n",
       "      <th>InternetAccess</th>\n",
       "      <th>Extracurricular</th>\n",
       "      <th>PartTimeJob</th>\n",
       "      <th>ParentSupport</th>\n",
       "      <th>Romantic</th>\n",
       "      <th>FreeTime</th>\n",
       "      <th>GoOut</th>\n",
       "    </tr>\n",
       "  </thead>\n",
       "  <tbody>\n",
       "    <tr>\n",
       "      <th>0</th>\n",
       "      <td>14</td>\n",
       "      <td>9</td>\n",
       "      <td>Female</td>\n",
       "      <td>Hispanic</td>\n",
       "      <td>3</td>\n",
       "      <td>SomeCollege</td>\n",
       "      <td>Public</td>\n",
       "      <td>City</td>\n",
       "      <td>90.186244</td>\n",
       "      <td>88.390291</td>\n",
       "      <td>...</td>\n",
       "      <td>3.509322</td>\n",
       "      <td>0.964022</td>\n",
       "      <td>1.409700</td>\n",
       "      <td>1</td>\n",
       "      <td>1</td>\n",
       "      <td>0</td>\n",
       "      <td>0</td>\n",
       "      <td>0</td>\n",
       "      <td>1</td>\n",
       "      <td>4</td>\n",
       "    </tr>\n",
       "    <tr>\n",
       "      <th>1</th>\n",
       "      <td>17</td>\n",
       "      <td>12</td>\n",
       "      <td>Female</td>\n",
       "      <td>White</td>\n",
       "      <td>4</td>\n",
       "      <td>SomeCollege</td>\n",
       "      <td>Public</td>\n",
       "      <td>Rural</td>\n",
       "      <td>73.356297</td>\n",
       "      <td>73.471428</td>\n",
       "      <td>...</td>\n",
       "      <td>3.118458</td>\n",
       "      <td>0.882988</td>\n",
       "      <td>1.112296</td>\n",
       "      <td>1</td>\n",
       "      <td>0</td>\n",
       "      <td>0</td>\n",
       "      <td>1</td>\n",
       "      <td>0</td>\n",
       "      <td>3</td>\n",
       "      <td>3</td>\n",
       "    </tr>\n",
       "    <tr>\n",
       "      <th>2</th>\n",
       "      <td>17</td>\n",
       "      <td>12</td>\n",
       "      <td>Female</td>\n",
       "      <td>Other</td>\n",
       "      <td>2</td>\n",
       "      <td>HS</td>\n",
       "      <td>Public</td>\n",
       "      <td>Suburban</td>\n",
       "      <td>73.970459</td>\n",
       "      <td>76.085029</td>\n",
       "      <td>...</td>\n",
       "      <td>3.640436</td>\n",
       "      <td>0.864401</td>\n",
       "      <td>1.214927</td>\n",
       "      <td>1</td>\n",
       "      <td>1</td>\n",
       "      <td>1</td>\n",
       "      <td>1</td>\n",
       "      <td>1</td>\n",
       "      <td>1</td>\n",
       "      <td>1</td>\n",
       "    </tr>\n",
       "    <tr>\n",
       "      <th>3</th>\n",
       "      <td>15</td>\n",
       "      <td>10</td>\n",
       "      <td>Male</td>\n",
       "      <td>White</td>\n",
       "      <td>4</td>\n",
       "      <td>SomeCollege</td>\n",
       "      <td>Public</td>\n",
       "      <td>Suburban</td>\n",
       "      <td>64.500290</td>\n",
       "      <td>63.858629</td>\n",
       "      <td>...</td>\n",
       "      <td>2.990611</td>\n",
       "      <td>0.887791</td>\n",
       "      <td>0.155258</td>\n",
       "      <td>1</td>\n",
       "      <td>0</td>\n",
       "      <td>0</td>\n",
       "      <td>1</td>\n",
       "      <td>0</td>\n",
       "      <td>5</td>\n",
       "      <td>4</td>\n",
       "    </tr>\n",
       "    <tr>\n",
       "      <th>4</th>\n",
       "      <td>18</td>\n",
       "      <td>12</td>\n",
       "      <td>Male</td>\n",
       "      <td>Black</td>\n",
       "      <td>3</td>\n",
       "      <td>HS</td>\n",
       "      <td>Public</td>\n",
       "      <td>City</td>\n",
       "      <td>84.546267</td>\n",
       "      <td>88.502675</td>\n",
       "      <td>...</td>\n",
       "      <td>3.546262</td>\n",
       "      <td>0.933201</td>\n",
       "      <td>0.908776</td>\n",
       "      <td>1</td>\n",
       "      <td>1</td>\n",
       "      <td>0</td>\n",
       "      <td>0</td>\n",
       "      <td>1</td>\n",
       "      <td>3</td>\n",
       "      <td>3</td>\n",
       "    </tr>\n",
       "  </tbody>\n",
       "</table>\n",
       "<p>5 rows × 21 columns</p>\n",
       "</div>"
      ],
      "text/plain": [
       "   Age  Grade  Gender      Race  SES_Quartile ParentalEducation SchoolType  \\\n",
       "0   14      9  Female  Hispanic             3       SomeCollege     Public   \n",
       "1   17     12  Female     White             4       SomeCollege     Public   \n",
       "2   17     12  Female     Other             2                HS     Public   \n",
       "3   15     10    Male     White             4       SomeCollege     Public   \n",
       "4   18     12    Male     Black             3                HS     Public   \n",
       "\n",
       "     Locale  TestScore_Math  TestScore_Reading  ...       GPA  AttendanceRate  \\\n",
       "0      City       90.186244          88.390291  ...  3.509322        0.964022   \n",
       "1     Rural       73.356297          73.471428  ...  3.118458        0.882988   \n",
       "2  Suburban       73.970459          76.085029  ...  3.640436        0.864401   \n",
       "3  Suburban       64.500290          63.858629  ...  2.990611        0.887791   \n",
       "4      City       84.546267          88.502675  ...  3.546262        0.933201   \n",
       "\n",
       "   StudyHours  InternetAccess  Extracurricular  PartTimeJob  ParentSupport  \\\n",
       "0    1.409700               1                1            0              0   \n",
       "1    1.112296               1                0            0              1   \n",
       "2    1.214927               1                1            1              1   \n",
       "3    0.155258               1                0            0              1   \n",
       "4    0.908776               1                1            0              0   \n",
       "\n",
       "   Romantic  FreeTime  GoOut  \n",
       "0         0         1      4  \n",
       "1         0         3      3  \n",
       "2         1         1      1  \n",
       "3         0         5      4  \n",
       "4         1         3      3  \n",
       "\n",
       "[5 rows x 21 columns]"
      ]
     },
     "execution_count": 2,
     "metadata": {},
     "output_type": "execute_result"
    }
   ],
   "source": [
    "df = pd.read_csv(r'C:\\Users\\ASUS\\Downloads\\archive\\validation_ordinal_enco.csv')\n",
    "df.head()"
   ]
  },
  {
   "cell_type": "code",
   "execution_count": 3,
   "id": "f6b7cd72-075c-414e-8848-93aa45080c5c",
   "metadata": {},
   "outputs": [],
   "source": [
    "ndf = df.iloc[:,:7]"
   ]
  },
  {
   "cell_type": "code",
   "execution_count": 4,
   "id": "b48f630a-abbe-49c3-b28e-b556cafd9239",
   "metadata": {},
   "outputs": [
    {
     "data": {
      "text/html": [
       "<div>\n",
       "<style scoped>\n",
       "    .dataframe tbody tr th:only-of-type {\n",
       "        vertical-align: middle;\n",
       "    }\n",
       "\n",
       "    .dataframe tbody tr th {\n",
       "        vertical-align: top;\n",
       "    }\n",
       "\n",
       "    .dataframe thead th {\n",
       "        text-align: right;\n",
       "    }\n",
       "</style>\n",
       "<table border=\"1\" class=\"dataframe\">\n",
       "  <thead>\n",
       "    <tr style=\"text-align: right;\">\n",
       "      <th></th>\n",
       "      <th>Age</th>\n",
       "      <th>Grade</th>\n",
       "      <th>Gender</th>\n",
       "      <th>Race</th>\n",
       "      <th>SES_Quartile</th>\n",
       "      <th>ParentalEducation</th>\n",
       "      <th>SchoolType</th>\n",
       "    </tr>\n",
       "  </thead>\n",
       "  <tbody>\n",
       "    <tr>\n",
       "      <th>0</th>\n",
       "      <td>14</td>\n",
       "      <td>9</td>\n",
       "      <td>Female</td>\n",
       "      <td>Hispanic</td>\n",
       "      <td>3</td>\n",
       "      <td>SomeCollege</td>\n",
       "      <td>Public</td>\n",
       "    </tr>\n",
       "    <tr>\n",
       "      <th>1</th>\n",
       "      <td>17</td>\n",
       "      <td>12</td>\n",
       "      <td>Female</td>\n",
       "      <td>White</td>\n",
       "      <td>4</td>\n",
       "      <td>SomeCollege</td>\n",
       "      <td>Public</td>\n",
       "    </tr>\n",
       "    <tr>\n",
       "      <th>2</th>\n",
       "      <td>17</td>\n",
       "      <td>12</td>\n",
       "      <td>Female</td>\n",
       "      <td>Other</td>\n",
       "      <td>2</td>\n",
       "      <td>HS</td>\n",
       "      <td>Public</td>\n",
       "    </tr>\n",
       "    <tr>\n",
       "      <th>3</th>\n",
       "      <td>15</td>\n",
       "      <td>10</td>\n",
       "      <td>Male</td>\n",
       "      <td>White</td>\n",
       "      <td>4</td>\n",
       "      <td>SomeCollege</td>\n",
       "      <td>Public</td>\n",
       "    </tr>\n",
       "    <tr>\n",
       "      <th>4</th>\n",
       "      <td>18</td>\n",
       "      <td>12</td>\n",
       "      <td>Male</td>\n",
       "      <td>Black</td>\n",
       "      <td>3</td>\n",
       "      <td>HS</td>\n",
       "      <td>Public</td>\n",
       "    </tr>\n",
       "  </tbody>\n",
       "</table>\n",
       "</div>"
      ],
      "text/plain": [
       "   Age  Grade  Gender      Race  SES_Quartile ParentalEducation SchoolType\n",
       "0   14      9  Female  Hispanic             3       SomeCollege     Public\n",
       "1   17     12  Female     White             4       SomeCollege     Public\n",
       "2   17     12  Female     Other             2                HS     Public\n",
       "3   15     10    Male     White             4       SomeCollege     Public\n",
       "4   18     12    Male     Black             3                HS     Public"
      ]
     },
     "execution_count": 4,
     "metadata": {},
     "output_type": "execute_result"
    }
   ],
   "source": [
    "ndf.head()"
   ]
  },
  {
   "cell_type": "code",
   "execution_count": 5,
   "id": "eae16add-fa92-4a79-a16f-7c74a116fa27",
   "metadata": {},
   "outputs": [
    {
     "data": {
      "text/plain": [
       "(999229, 7)"
      ]
     },
     "execution_count": 5,
     "metadata": {},
     "output_type": "execute_result"
    }
   ],
   "source": [
    "ndf.shape"
   ]
  },
  {
   "cell_type": "code",
   "execution_count": 6,
   "id": "0005082b-af33-497b-9e6c-21d1bf8dfcd2",
   "metadata": {},
   "outputs": [
    {
     "data": {
      "text/plain": [
       "Age                  0\n",
       "Grade                0\n",
       "Gender               0\n",
       "Race                 0\n",
       "SES_Quartile         0\n",
       "ParentalEducation    0\n",
       "SchoolType           0\n",
       "dtype: int64"
      ]
     },
     "execution_count": 6,
     "metadata": {},
     "output_type": "execute_result"
    }
   ],
   "source": [
    "ndf.isnull().sum()"
   ]
  },
  {
   "cell_type": "code",
   "execution_count": 7,
   "id": "0c1f57b7-111e-4a40-b534-d619a6346b69",
   "metadata": {},
   "outputs": [
    {
     "data": {
      "text/html": [
       "<div>\n",
       "<style scoped>\n",
       "    .dataframe tbody tr th:only-of-type {\n",
       "        vertical-align: middle;\n",
       "    }\n",
       "\n",
       "    .dataframe tbody tr th {\n",
       "        vertical-align: top;\n",
       "    }\n",
       "\n",
       "    .dataframe thead th {\n",
       "        text-align: right;\n",
       "    }\n",
       "</style>\n",
       "<table border=\"1\" class=\"dataframe\">\n",
       "  <thead>\n",
       "    <tr style=\"text-align: right;\">\n",
       "      <th></th>\n",
       "      <th>Age</th>\n",
       "      <th>Grade</th>\n",
       "      <th>Gender</th>\n",
       "      <th>Race</th>\n",
       "      <th>SES_Quartile</th>\n",
       "      <th>ParentalEducation</th>\n",
       "      <th>SchoolType</th>\n",
       "    </tr>\n",
       "  </thead>\n",
       "  <tbody>\n",
       "    <tr>\n",
       "      <th>0</th>\n",
       "      <td>14</td>\n",
       "      <td>9</td>\n",
       "      <td>Female</td>\n",
       "      <td>Hispanic</td>\n",
       "      <td>3</td>\n",
       "      <td>SomeCollege</td>\n",
       "      <td>Public</td>\n",
       "    </tr>\n",
       "    <tr>\n",
       "      <th>1</th>\n",
       "      <td>17</td>\n",
       "      <td>12</td>\n",
       "      <td>Female</td>\n",
       "      <td>White</td>\n",
       "      <td>4</td>\n",
       "      <td>SomeCollege</td>\n",
       "      <td>Public</td>\n",
       "    </tr>\n",
       "    <tr>\n",
       "      <th>2</th>\n",
       "      <td>17</td>\n",
       "      <td>12</td>\n",
       "      <td>Female</td>\n",
       "      <td>Other</td>\n",
       "      <td>2</td>\n",
       "      <td>HS</td>\n",
       "      <td>Public</td>\n",
       "    </tr>\n",
       "    <tr>\n",
       "      <th>3</th>\n",
       "      <td>15</td>\n",
       "      <td>10</td>\n",
       "      <td>Male</td>\n",
       "      <td>White</td>\n",
       "      <td>4</td>\n",
       "      <td>SomeCollege</td>\n",
       "      <td>Public</td>\n",
       "    </tr>\n",
       "    <tr>\n",
       "      <th>4</th>\n",
       "      <td>18</td>\n",
       "      <td>12</td>\n",
       "      <td>Male</td>\n",
       "      <td>Black</td>\n",
       "      <td>3</td>\n",
       "      <td>HS</td>\n",
       "      <td>Public</td>\n",
       "    </tr>\n",
       "  </tbody>\n",
       "</table>\n",
       "</div>"
      ],
      "text/plain": [
       "   Age  Grade  Gender      Race  SES_Quartile ParentalEducation SchoolType\n",
       "0   14      9  Female  Hispanic             3       SomeCollege     Public\n",
       "1   17     12  Female     White             4       SomeCollege     Public\n",
       "2   17     12  Female     Other             2                HS     Public\n",
       "3   15     10    Male     White             4       SomeCollege     Public\n",
       "4   18     12    Male     Black             3                HS     Public"
      ]
     },
     "execution_count": 7,
     "metadata": {},
     "output_type": "execute_result"
    }
   ],
   "source": [
    "ndf.head()"
   ]
  },
  {
   "cell_type": "code",
   "execution_count": 11,
   "id": "78df7ca0-523f-454d-b341-147eca98ab0b",
   "metadata": {},
   "outputs": [],
   "source": [
    "ordinal_cols = ['Grade', 'SES_Quartile', 'ParentalEducation']\n",
    "ordinal_categories = [\n",
    "    [9, 10, 11, 12],  # Integers\n",
    "    [1, 2, 3, 4],     # Integers\n",
    "    ['<HS','HS','SomeCollege','Bachelors+']  # Strings as is\n",
    "]\n",
    "\n",
    "nominal_cols = ['Gender', 'Race']\n",
    "numeric_cols = ['Age']\n"
   ]
  },
  {
   "cell_type": "code",
   "execution_count": 13,
   "id": "04e35bb2-ea5d-4553-ba94-4f82acc46725",
   "metadata": {},
   "outputs": [],
   "source": [
    "ndf['Grade'] = ndf['Grade'].astype(int)\n",
    "ndf['SES_Quartile'] = ndf['SES_Quartile'].astype(int)"
   ]
  },
  {
   "cell_type": "code",
   "execution_count": 14,
   "id": "c3681d28-60c1-49dc-a214-44c1f2c56e9e",
   "metadata": {},
   "outputs": [],
   "source": [
    "ordinal_pipe = Pipeline([\n",
    "    ('encoder', OrdinalEncoder(categories=ordinal_categories, handle_unknown='use_encoded_value', unknown_value=-1))\n",
    "])\n",
    "\n",
    "nominal_pipe = Pipeline([\n",
    "    ('encoder', OneHotEncoder(drop='first', handle_unknown='ignore'))\n",
    "])\n",
    "\n",
    "numeric_pipe = Pipeline([\n",
    "    ('scaler', StandardScaler())  # Optional, but useful for some models\n",
    "])"
   ]
  },
  {
   "cell_type": "code",
   "execution_count": 15,
   "id": "5bcdd425-bb99-4820-bafd-f2bd7bb2d43f",
   "metadata": {},
   "outputs": [],
   "source": [
    "preprocessor = ColumnTransformer([\n",
    "    ('ord', ordinal_pipe, ordinal_cols),\n",
    "    ('nom', nominal_pipe, nominal_cols),\n",
    "    ('num', numeric_pipe, numeric_cols)\n",
    "])\n"
   ]
  },
  {
   "cell_type": "code",
   "execution_count": 16,
   "id": "da79a133-d04b-4248-a97a-f6d45a549fd9",
   "metadata": {},
   "outputs": [],
   "source": [
    "pipeline = Pipeline([\n",
    "    ('preprocessing', preprocessor),\n",
    "    ('classifier', LogisticRegression(max_iter=1000, random_state=42))\n",
    "])"
   ]
  },
  {
   "cell_type": "code",
   "execution_count": 19,
   "id": "0f30916f-896e-4185-a973-e36f58552870",
   "metadata": {},
   "outputs": [],
   "source": [
    "pipeline = Pipeline([\n",
    "    ('preprocessing', preprocessor),\n",
    "    ('classifier', RandomForestClassifier(random_state=42))\n",
    "])"
   ]
  },
  {
   "cell_type": "code",
   "execution_count": 20,
   "id": "9e3bcfeb-54ef-4976-99c9-f67468ff9647",
   "metadata": {},
   "outputs": [],
   "source": [
    "X_train, X_test, y_train, y_test = train_test_split(ndf.drop(columns=['SchoolType']), ndf['SchoolType'], test_size=0.2, random_state=42)"
   ]
  },
  {
   "cell_type": "code",
   "execution_count": 21,
   "id": "5513a18b-33b5-47e0-b093-ed082b6d58ab",
   "metadata": {},
   "outputs": [],
   "source": [
    "warnings.filterwarnings(\"ignore\")"
   ]
  },
  {
   "cell_type": "code",
   "execution_count": 22,
   "id": "5cccbf7f-f705-4729-9c8b-b0a1d34e588f",
   "metadata": {},
   "outputs": [
    {
     "name": "stdout",
     "output_type": "stream",
     "text": [
      "Accuracy: 0.8463967254786186\n",
      "              precision    recall  f1-score   support\n",
      "\n",
      "     Private       0.00      0.00      0.00     30697\n",
      "      Public       0.85      1.00      0.92    169149\n",
      "\n",
      "    accuracy                           0.85    199846\n",
      "   macro avg       0.42      0.50      0.46    199846\n",
      "weighted avg       0.72      0.85      0.78    199846\n",
      "\n"
     ]
    }
   ],
   "source": [
    "pipeline.fit(X_train, y_train)\n",
    "y_pred = pipeline.predict(X_test)\n",
    "print(\"Accuracy:\", accuracy_score(y_test, y_pred))\n",
    "print(classification_report(y_test, y_pred))"
   ]
  },
  {
   "cell_type": "code",
   "execution_count": 25,
   "id": "82b49203-c8a0-42dd-b869-a2bed012a293",
   "metadata": {},
   "outputs": [
    {
     "name": "stdout",
     "output_type": "stream",
     "text": [
      "Accuracy: 0.8463967254786186\n",
      "              precision    recall  f1-score   support\n",
      "\n",
      "     Private       0.00      0.00      0.00     30697\n",
      "      Public       0.85      1.00      0.92    169149\n",
      "\n",
      "    accuracy                           0.85    199846\n",
      "   macro avg       0.42      0.50      0.46    199846\n",
      "weighted avg       0.72      0.85      0.78    199846\n",
      "\n"
     ]
    }
   ],
   "source": [
    "pipeline.fit(X_train, y_train)\n",
    "y_pred = pipeline.predict(X_test)\n",
    "print(\"Accuracy:\", accuracy_score(y_test, y_pred))\n",
    "print(classification_report(y_test, y_pred))"
   ]
  }
 ],
 "metadata": {
  "kernelspec": {
   "display_name": "base",
   "language": "python",
   "name": "python3"
  },
  "language_info": {
   "codemirror_mode": {
    "name": "ipython",
    "version": 3
   },
   "file_extension": ".py",
   "mimetype": "text/x-python",
   "name": "python",
   "nbconvert_exporter": "python",
   "pygments_lexer": "ipython3",
   "version": "3.12.7"
  }
 },
 "nbformat": 4,
 "nbformat_minor": 5
}
